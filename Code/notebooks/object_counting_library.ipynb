{
 "cells": [
  {
   "cell_type": "markdown",
   "metadata": {},
   "source": [
    "# Functions to be used in implementations\n",
    "This notebook is a collection of functions which can be used on implementations.  "
   ]
  },
  {
   "cell_type": "code",
   "execution_count": 2,
   "metadata": {},
   "outputs": [],
   "source": [
    "%matplotlib inline"
   ]
  },
  {
   "cell_type": "code",
   "execution_count": 3,
   "metadata": {},
   "outputs": [],
   "source": [
    "import matplotlib.pyplot as plt  \n",
    "import matplotlib.image as mpimg  \n",
    "import matplotlib.colors as clr\n",
    "import numpy as np \n",
    "import cv2 as cv\n",
    "import os\n",
    "from scipy import ndimage as nd\n",
    "\n",
    "\n",
    "plt.rcParams['figure.figsize'] = [12, 8]\n",
    "plt.rcParams['figure.dpi'] = 100 "
   ]
  },
  {
   "cell_type": "code",
   "execution_count": 4,
   "metadata": {},
   "outputs": [],
   "source": [
    "def read_imgs(folder_name):\n",
    "    imgs = []\n",
    "    files = []\n",
    "    folder = folder_name\n",
    "\n",
    "    for filename in sorted(os.listdir(folder)):\n",
    "        img = cv.imread(os.path.join(folder,filename))\n",
    "        if img is not None:\n",
    "            img = cv.cvtColor(img, cv.COLOR_BGR2RGB)\n",
    "            img = cv.resize(img, (480, 360))\n",
    "            imgs.append(img)\n",
    "            files.append(filename)\n",
    "\n",
    "    #np.savetxt(\"../test_data/bases.txt\", files, newline=\"\\n\", fmt = \"%s\")\n",
    "    \n",
    "    return imgs, files"
   ]
  },
  {
   "cell_type": "code",
   "execution_count": 88,
   "metadata": {},
   "outputs": [],
   "source": [
    "def read_values(folder_name):\n",
    "    values = []\n",
    "    pack = np.loadtxt(folder_name,dtype={'names': ('filenames', 'values'),\n",
    "                         'formats': ('S20', 'i4')})\n",
    "    i = np.argsort(pack)\n",
    "    pack = pack[i]\n",
    "    for value in pack[['values']]:\n",
    "        value = value[0]\n",
    "        values.append(value)\n",
    "    \n",
    "    return values"
   ]
  },
  {
   "cell_type": "code",
   "execution_count": 5,
   "metadata": {},
   "outputs": [],
   "source": [
    "def thresh_process(imgs):\n",
    "\n",
    "    ret = []\n",
    "    for img in imgs:\n",
    "        \n",
    "        gray = cv.cvtColor(img, cv.COLOR_RGB2GRAY)\n",
    "        median = cv.medianBlur(gray, 3)\n",
    "        kernel = np.ones((3,3),np.uint8)\n",
    "\n",
    "        dilation = cv.morphologyEx(median, cv.MORPH_DILATE, kernel)\n",
    "        closing = cv.morphologyEx(dilation, cv.MORPH_CLOSE, kernel)\n",
    "        _, thresh = cv.threshold(closing, 250, 255, cv.THRESH_BINARY)\n",
    "        \n",
    "        ret.append(thresh)\n",
    "        \n",
    "    return ret\n"
   ]
  },
  {
   "cell_type": "code",
   "execution_count": 6,
   "metadata": {},
   "outputs": [],
   "source": [
    "def saturation_process(imgs):\n",
    "    \n",
    "    ret = []\n",
    "    for img in imgs:\n",
    "        kernel = np.ones((3,3),np.uint8)\n",
    "        gray = cv.cvtColor(img, cv.COLOR_RGB2GRAY)\n",
    "\n",
    "        hsv = cv.cvtColor(img, cv.COLOR_RGB2HSV)\n",
    "        hsv = hsv[:,:,1]\n",
    "\n",
    "        dilation = cv.morphologyEx(hsv, cv.MORPH_OPEN, kernel)\n",
    "\n",
    "        blur = cv.GaussianBlur(dilation, (3,3), 0)\n",
    "\n",
    "        gaus = cv.Canny(blur,250,255)\n",
    "        gaus = cv.dilate(gaus, kernel, iterations = 1)\n",
    "        gaus = cv.erode(gaus, kernel, iterations = 1)\n",
    "        \n",
    "        ret.append(gaus)\n",
    "        \n",
    "    return ret"
   ]
  },
  {
   "cell_type": "code",
   "execution_count": 7,
   "metadata": {},
   "outputs": [],
   "source": [
    "def morph_saturation(imgs):\n",
    "    \n",
    "    ret = []\n",
    "    \n",
    "    for img in imgs:\n",
    "        kernel = np.ones((3,3),np.uint8)\n",
    "\n",
    "        hsv = cv.cvtColor(img, cv.COLOR_RGB2HSV)\n",
    "        hsv = hsv[:,:,1]\n",
    "\n",
    "        blur = cv.medianBlur(hsv, 5)\n",
    "        gaus = cv.Canny(blur,250,255)\n",
    "        gaus = cv.medianBlur(gaus, 1)\n",
    "        gaus = cv.dilate(gaus, kernel, iterations = 1)\n",
    "        \n",
    "        ret.append(gaus)\n",
    "        \n",
    "    return ret"
   ]
  },
  {
   "cell_type": "code",
   "execution_count": 8,
   "metadata": {},
   "outputs": [],
   "source": [
    "def find_contour(img, target):\n",
    "    fidelity = False\n",
    "    fidelityValue = 1.7\n",
    "    detected = img.copy()\n",
    "    _, c, h = cv.findContours(target, cv.RETR_TREE, cv.CHAIN_APPROX_SIMPLE)\n",
    "    fidelityRange = 0\n",
    "    if fidelity:\n",
    "        maxArea = .0\n",
    "        for i in c: # With images it is convenient to know the greater area\n",
    "            area = cv.contourArea(i)\n",
    "            if area > maxArea:\n",
    "                maxArea = area\n",
    "        fidelityRange = maxArea - (maxArea * fidelityValue) # If objects have same size it prevents false detection\n",
    "\n",
    "    totalContours = 0\n",
    "\n",
    "    br = []\n",
    "    for i in range(len(c)):\n",
    "        if h[0][i][3] == -1 and cv.contourArea(c[i]) >= fidelityRange:\n",
    "            totalContours += 1\n",
    "            approx = cv.approxPolyDP(c[i], 3, True)\n",
    "            br.append(cv.boundingRect(approx))\n",
    "    for b in br:\n",
    "        cv.rectangle(detected, (b[0], b[1]), (b[0] + b[2], b[1] + b[3]), (255, 0, 0), 3) \n",
    "    \n",
    "    return totalContours, detected"
   ]
  },
  {
   "cell_type": "code",
   "execution_count": 9,
   "metadata": {},
   "outputs": [],
   "source": [
    "def blob_detection(img, target):\n",
    "    imcopy = img.copy()\n",
    "\n",
    "    params = cv.SimpleBlobDetector_Params()\n",
    "\n",
    "    params.filterByColor = True\n",
    "    params.blobColor = 0\n",
    "\n",
    "    params.filterByArea = True\n",
    "    params.minArea = 50\n",
    "\n",
    "    params.filterByCircularity = True\n",
    "    params.minCircularity = 0.785\n",
    "    params.maxCircularity = 1.0\n",
    "\n",
    "    params.filterByConvexity = True\n",
    "    params.minConvexity = 0.4\n",
    "    params.maxConvexity = 1.0\n",
    "\n",
    "    params.filterByInertia = True\n",
    "    params.minInertiaRatio = 0.1\n",
    "\n",
    "    detector = cv.SimpleBlobDetector_create(params)\n",
    "\n",
    "    keypoints = detector.detect(target)\n",
    "    total = len(keypoints)\n",
    "\n",
    "    im_with_keypoints = cv.drawKeypoints (imcopy, keypoints, np.array([]), (255,0,0), cv.DRAW_MATCHES_FLAGS_DRAW_RICH_KEYPOINTS)\n",
    "    \n",
    "    return total, im_with_keypoints"
   ]
  },
  {
   "cell_type": "code",
   "execution_count": 10,
   "metadata": {},
   "outputs": [],
   "source": [
    "def hough_circles(img, target):\n",
    "    copy = img.copy()\n",
    "    size = (np.max(target))/16\n",
    "    circles = cv.HoughCircles(target, cv.HOUGH_GRADIENT, 1.5, size, param1=300, param2=25, minRadius=0,maxRadius=50)\n",
    "    num = 0\n",
    "    \n",
    "    if circles is not None:\n",
    "        num = len(circles[0])\n",
    "    \n",
    "    if circles is not None:\n",
    "        circles = np.round(circles[0, :]).astype(\"int\")\n",
    "\n",
    "        for (x, y, r) in circles:\n",
    "            cv.circle(copy, (x, y), r, (0, 0, 255), 2)\n",
    "            cv.rectangle(copy, (x - 3, y - 3), (x + 3, y + 3), (0, 128, 255), -1)\n",
    "\n",
    "    return num, copy"
   ]
  },
  {
   "cell_type": "code",
   "execution_count": 110,
   "metadata": {},
   "outputs": [],
   "source": [
    "def f1_measure(base, total):\n",
    "    \n",
    "    tp = 0\n",
    "    fp = 0\n",
    "    fn = 0\n",
    "    score = 0\n",
    "    \n",
    "    if base==total:\n",
    "        tp = total\n",
    "    elif total > base:\n",
    "        tp = base\n",
    "        fp = total - base\n",
    "    elif total < base:\n",
    "        tp = total\n",
    "        fn = base - total\n",
    "    score = tp / (tp + (0.5) * (fp + fn))\n",
    "        \n",
    "    return score\n",
    "    \n",
    "    "
   ]
  },
  {
   "cell_type": "code",
   "execution_count": 111,
   "metadata": {},
   "outputs": [],
   "source": []
  },
  {
   "cell_type": "code",
   "execution_count": 112,
   "metadata": {},
   "outputs": [],
   "source": []
  },
  {
   "cell_type": "code",
   "execution_count": 126,
   "metadata": {},
   "outputs": [],
   "source": [
    "def example_implementation():\n",
    "    imgs, files = read_imgs(\"../test_data\")\n",
    "    #np.savetxt(\"../test_data/bases.txt\", files, newline=\"\\n\", fmt = \"%s\")\n",
    "    values = read_values(\"../test_data/bases.txt\")\n",
    "    threshes = morph_saturation(imgs)\n",
    "    finals = []\n",
    "    totals = []\n",
    "    scores = []\n",
    "    for (img, thresh, file, value) in zip(imgs, threshes, files, values):\n",
    "        total, final = blob_detection(img, thresh)\n",
    "        score = f1_measure(value, total)\n",
    "        scores.append(score)\n",
    "        finals.append(final)\n",
    "        totals.append(total)\n",
    "        #fig, axs = plt.subplots(1,2)\n",
    "        #axs[0].imshow(img, cmap = 'gray')\n",
    "        #axs[0].set_title('Original image')\n",
    "        #axs[1].imshow(final, cmap = 'gray')\n",
    "        #axs[1].set_title('Image w/ detected objects')\n",
    "\n",
    "        #print(\"Filename:\" , file, \"Detected objects:\", total)\n",
    "\n",
    "    save = zip(files, imgs, threshes, finals, values, totals, scores)\n",
    "    print(\"Average success:\", (np.sum(scores) / len(scores)))\n",
    "    \n",
    "    return save"
   ]
  },
  {
   "cell_type": "code",
   "execution_count": 127,
   "metadata": {
    "scrolled": true
   },
   "outputs": [
    {
     "name": "stdout",
     "output_type": "stream",
     "text": [
      "Average success: 0.6007864814230861\n",
      "roi_1.png 0 4 0.0\n",
      "roi_2.png 0 6 0.0\n",
      "roi_3.png 0 17 0.0\n",
      "screws_005.png 2 1 0.6666666666666666\n",
      "screws_006.png 1 2 0.6666666666666666\n",
      "screws_009.png 1 2 0.6666666666666666\n",
      "screws_021.png 6 7 0.9230769230769231\n",
      "screws_037.png 5 6 0.9090909090909091\n",
      "screws_047.png 3 3 1.0\n",
      "screws_075.png 5 5 1.0\n",
      "screws_084.png 7 7 1.0\n",
      "screws_375.png 5 6 0.9090909090909091\n",
      "ting_roi.png 1 28 0.06896551724137931\n"
     ]
    }
   ],
   "source": [
    "save = example_implementation()\n",
    "for file, img, thresh, final, value, total, score in save:\n",
    "    print(file, total, value, score)"
   ]
  },
  {
   "cell_type": "code",
   "execution_count": null,
   "metadata": {},
   "outputs": [],
   "source": []
  },
  {
   "cell_type": "code",
   "execution_count": null,
   "metadata": {},
   "outputs": [],
   "source": []
  }
 ],
 "metadata": {
  "kernelspec": {
   "display_name": "Python 3",
   "language": "python",
   "name": "python3"
  },
  "language_info": {
   "codemirror_mode": {
    "name": "ipython",
    "version": 3
   },
   "file_extension": ".py",
   "mimetype": "text/x-python",
   "name": "python",
   "nbconvert_exporter": "python",
   "pygments_lexer": "ipython3",
   "version": "3.9.1"
  }
 },
 "nbformat": 4,
 "nbformat_minor": 4
}
