{
 "cells": [
  {
   "cell_type": "code",
   "execution_count": 1,
   "metadata": {},
   "outputs": [],
   "source": [
    "%matplotlib inline\n",
    "import matplotlib.pyplot as plt   #We use matplotlib library for plotting\n",
    "import matplotlib.image as mpimg  \n",
    "import matplotlib.colors as clr\n",
    "import numpy as np \n",
    "import cv2 as cv\n",
    "\n",
    "plt.rcParams['figure.figsize'] = [12, 8]\n",
    "plt.rcParams['figure.dpi'] = 100 # 200 e.g. is really fine, but slower"
   ]
  },
  {
   "cell_type": "code",
   "execution_count": 5,
   "metadata": {},
   "outputs": [
    {
     "name": "stdout",
     "output_type": "stream",
     "text": [
      "[167 178 184 ... 193 163 185]\n"
     ]
    }
   ],
   "source": [
    "matrix_test = None\n",
    "img = cv.imread(\"test_data/screws_375.png\", 0)\n",
    "img = cv.resize(img, (128, 128))\n",
    "imgvector = img.reshape(128*128)\n",
    "try:\n",
    "    matrix_test = np.vstack((matrix_test, imgvector))\n",
    "except:\n",
    "    matrix_test = imgvector\n",
    "\n",
    "mean, eigenvectors = cv.PCACompute(matrix_test, np.mean(matrix_test, axis=0).reshape(1,-1))\n",
    "\n",
    "print(imgvector)"
   ]
  },
  {
   "cell_type": "code",
   "execution_count": null,
   "metadata": {},
   "outputs": [],
   "source": []
  }
 ],
 "metadata": {
  "kernelspec": {
   "display_name": "Python 3",
   "language": "python",
   "name": "python3"
  },
  "language_info": {
   "codemirror_mode": {
    "name": "ipython",
    "version": 3
   },
   "file_extension": ".py",
   "mimetype": "text/x-python",
   "name": "python",
   "nbconvert_exporter": "python",
   "pygments_lexer": "ipython3",
   "version": "3.9.1"
  }
 },
 "nbformat": 4,
 "nbformat_minor": 4
}
